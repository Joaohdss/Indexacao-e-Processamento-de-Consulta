{
  "nbformat": 4,
  "nbformat_minor": 0,
  "metadata": {
    "colab": {
      "name": "Lab04.ipynb",
      "version": "0.3.2",
      "provenance": [],
      "collapsed_sections": [],
      "toc_visible": true
    },
    "kernelspec": {
      "name": "python3",
      "display_name": "Python 3"
    }
  },
  "cells": [
    {
      "cell_type": "markdown",
      "metadata": {
        "id": "rklGXq2Wn1vi",
        "colab_type": "text"
      },
      "source": [
        "## Parte 1 :   Importando Bibliotecas que serão usadas"
      ]
    },
    {
      "cell_type": "code",
      "metadata": {
        "id": "SbC_IPx9ndWT",
        "colab_type": "code",
        "outputId": "b0a74e45-2a04-4e61-e440-6177c3659f80",
        "colab": {
          "base_uri": "https://localhost:8080/",
          "height": 153
        }
      },
      "source": [
        "import pandas as pd\n",
        "import numpy as np\n",
        "import matplotlib.pyplot as plt\n",
        "import csv\n",
        "\n",
        "import re\n",
        "import nltk\n",
        "nltk.download('punkt')\n",
        "nltk.download('stopwords')\n",
        "nltk.download('averaged_perceptron_tagger')\n",
        "from nltk.tokenize import word_tokenize\n",
        "from nltk import tokenize \n",
        "from nltk.stem import RSLPStemmer\n",
        "from nltk.stem.porter import *\n",
        "\n",
        "%matplotlib inline\n"
      ],
      "execution_count": 37,
      "outputs": [
        {
          "output_type": "stream",
          "text": [
            "[nltk_data] Downloading package punkt to /root/nltk_data...\n",
            "[nltk_data]   Package punkt is already up-to-date!\n",
            "[nltk_data] Downloading package stopwords to /root/nltk_data...\n",
            "[nltk_data]   Package stopwords is already up-to-date!\n",
            "[nltk_data] Downloading package averaged_perceptron_tagger to\n",
            "[nltk_data]     /root/nltk_data...\n",
            "[nltk_data]   Package averaged_perceptron_tagger is already up-to-\n",
            "[nltk_data]       date!\n"
          ],
          "name": "stdout"
        }
      ]
    },
    {
      "cell_type": "markdown",
      "metadata": {
        "id": "q4mT4Ca-oYUc",
        "colab_type": "text"
      },
      "source": [
        "\n",
        "*  ## Lendo arquivo csv\n",
        "*  ## Eliminando caracteres com tamanho 2 ou menor e deixando todos em caixa baixa\n",
        "\n",
        "\n"
      ]
    },
    {
      "cell_type": "code",
      "metadata": {
        "id": "jJPHsnJPoWNn",
        "colab_type": "code",
        "outputId": "37005e37-42f7-43c0-8907-fca8c7bcd7d6",
        "colab": {
          "base_uri": "https://localhost:8080/",
          "height": 119
        }
      },
      "source": [
        "arquivo = pd.read_csv('results.csv')\n",
        "texto = arquivo['text']\n",
        "\n",
        "def eliminar_carac(text):\n",
        "  return re.sub(r'(\\W+|\\d+|\\b\\w{0,2}\\b)', ' ', text.lower())\n",
        "texto = texto.apply(eliminar_carac)\n",
        "\n",
        "texto = texto.apply(tokenize.word_tokenize, language='portuguese')\n",
        "palavras = []\n",
        "\n",
        "\n",
        "texto.head()"
      ],
      "execution_count": 38,
      "outputs": [
        {
          "output_type": "execute_result",
          "data": {
            "text/plain": [
              "0    [documento, páginas, vazado, onu, calcula, que...\n",
              "1    [volta, israel, onde, fez, parte, comitiva, pa...\n",
              "2    [ditador, nicolás, maduro, não, despacha, palá...\n",
              "3    [steve, bannon, estrategista, donald, trump, d...\n",
              "4    [entre, março, º, abril, pessoas, foram, presa...\n",
              "Name: text, dtype: object"
            ]
          },
          "metadata": {
            "tags": []
          },
          "execution_count": 38
        }
      ]
    },
    {
      "cell_type": "markdown",
      "metadata": {
        "id": "ycNPrAO9pGRN",
        "colab_type": "text"
      },
      "source": [
        "## Eliminando as stopwords : Usando a biblioteca nltk\n",
        "## Algoritmo Build Index : Usada para uma indexação simples\n"
      ]
    },
    {
      "cell_type": "code",
      "metadata": {
        "id": "GpYdzOHmpmoD",
        "colab_type": "code",
        "colab": {
          "base_uri": "https://localhost:8080/",
          "height": 204
        },
        "outputId": "e0add903-1421-40fb-8c88-da1bd3efb006"
      },
      "source": [
        "stopwords = nltk.corpus.stopwords.words('portuguese')\n",
        "\n",
        "def eliminar_stopwords(text):\n",
        "  palavras = []\n",
        "  for palavra in text:\n",
        "    if(palavra not in stopwords):\n",
        "      palavras.append(palavra)\n",
        "  return palavras \n",
        "\n",
        "def build_index(arquivo):\n",
        "  numero_da_lista = 0\n",
        "  dic_index = {}\n",
        "  for documento in arquivo:\n",
        "    numero_da_lista += 1\n",
        "    doc = eliminar_stopwords(documento)\n",
        "    for palavra in doc:\n",
        "      ocorrencia = doc.count(palavra)\n",
        "      if palavra not in dic_index:\n",
        "        dic_index[palavra] = []\n",
        "      par = (numero_da_lista, ocorrencia)\n",
        "      if par not in dic_index[palavra]:\n",
        "         dic_index[palavra].append(par)\n",
        "  return dic_index\n",
        "  \n",
        "  \n",
        "tabela = build_index(texto)\n",
        "tabela = {'palavra' : list(tabela.keys()),\n",
        "       'doc|ocorrencia' : list(tabela.values()) }\n",
        "df = pd.DataFrame(tabela)\n",
        "df.head()\n",
        "# df.to_csv('index.csv') salvar o arquivo em csv"
      ],
      "execution_count": 39,
      "outputs": [
        {
          "output_type": "execute_result",
          "data": {
            "text/html": [
              "<div>\n",
              "<style scoped>\n",
              "    .dataframe tbody tr th:only-of-type {\n",
              "        vertical-align: middle;\n",
              "    }\n",
              "\n",
              "    .dataframe tbody tr th {\n",
              "        vertical-align: top;\n",
              "    }\n",
              "\n",
              "    .dataframe thead th {\n",
              "        text-align: right;\n",
              "    }\n",
              "</style>\n",
              "<table border=\"1\" class=\"dataframe\">\n",
              "  <thead>\n",
              "    <tr style=\"text-align: right;\">\n",
              "      <th></th>\n",
              "      <th>palavra</th>\n",
              "      <th>doc|ocorrencia</th>\n",
              "    </tr>\n",
              "  </thead>\n",
              "  <tbody>\n",
              "    <tr>\n",
              "      <th>0</th>\n",
              "      <td>documento</td>\n",
              "      <td>[(1, 1), (26, 1), (58, 1), (80, 1)]</td>\n",
              "    </tr>\n",
              "    <tr>\n",
              "      <th>1</th>\n",
              "      <td>páginas</td>\n",
              "      <td>[(1, 1), (26, 1), (58, 1), (80, 1)]</td>\n",
              "    </tr>\n",
              "    <tr>\n",
              "      <th>2</th>\n",
              "      <td>vazado</td>\n",
              "      <td>[(1, 1), (26, 1), (58, 1), (80, 1)]</td>\n",
              "    </tr>\n",
              "    <tr>\n",
              "      <th>3</th>\n",
              "      <td>onu</td>\n",
              "      <td>[(1, 1), (6, 1), (26, 1), (34, 1), (58, 1), (6...</td>\n",
              "    </tr>\n",
              "    <tr>\n",
              "      <th>4</th>\n",
              "      <td>calcula</td>\n",
              "      <td>[(1, 1), (26, 1), (58, 1), (80, 1)]</td>\n",
              "    </tr>\n",
              "  </tbody>\n",
              "</table>\n",
              "</div>"
            ],
            "text/plain": [
              "     palavra                                     doc|ocorrencia\n",
              "0  documento                [(1, 1), (26, 1), (58, 1), (80, 1)]\n",
              "1    páginas                [(1, 1), (26, 1), (58, 1), (80, 1)]\n",
              "2     vazado                [(1, 1), (26, 1), (58, 1), (80, 1)]\n",
              "3        onu  [(1, 1), (6, 1), (26, 1), (34, 1), (58, 1), (6...\n",
              "4    calcula                [(1, 1), (26, 1), (58, 1), (80, 1)]"
            ]
          },
          "metadata": {
            "tags": []
          },
          "execution_count": 39
        }
      ]
    },
    {
      "cell_type": "markdown",
      "metadata": {
        "id": "8UdBAmzi_GUg",
        "colab_type": "text"
      },
      "source": [
        "## Parte 2\n"
      ]
    }
  ]
}