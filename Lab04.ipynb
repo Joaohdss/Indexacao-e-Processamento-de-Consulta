{
  "nbformat": 4,
  "nbformat_minor": 0,
  "metadata": {
    "colab": {
      "name": "Lab04.ipynb",
      "version": "0.3.2",
      "provenance": [],
      "collapsed_sections": [],
      "toc_visible": true
    },
    "kernelspec": {
      "name": "python3",
      "display_name": "Python 3"
    }
  },
  "cells": [
    {
      "cell_type": "markdown",
      "metadata": {
        "id": "rklGXq2Wn1vi",
        "colab_type": "text"
      },
      "source": [
        "## Parte 1 :   Importando Bibliotecas que serão usadas"
      ]
    },
    {
      "cell_type": "code",
      "metadata": {
        "id": "SbC_IPx9ndWT",
        "colab_type": "code",
        "outputId": "da35b41a-cd5c-4d17-ca7c-9f472f4c4779",
        "colab": {
          "base_uri": "https://localhost:8080/",
          "height": 153
        }
      },
      "source": [
        "import pandas as pd\n",
        "import numpy as np\n",
        "import matplotlib.pyplot as plt\n",
        "import csv\n",
        "\n",
        "import re\n",
        "import nltk\n",
        "nltk.download('punkt')\n",
        "nltk.download('stopwords')\n",
        "nltk.download('averaged_perceptron_tagger')\n",
        "from nltk.tokenize import word_tokenize\n",
        "from nltk import tokenize \n",
        "from nltk.stem import RSLPStemmer\n",
        "from nltk.stem.porter import *\n",
        "import heapq\n",
        "import time\n",
        "%matplotlib inline\n"
      ],
      "execution_count": 94,
      "outputs": [
        {
          "output_type": "stream",
          "text": [
            "[nltk_data] Downloading package punkt to /root/nltk_data...\n",
            "[nltk_data]   Package punkt is already up-to-date!\n",
            "[nltk_data] Downloading package stopwords to /root/nltk_data...\n",
            "[nltk_data]   Package stopwords is already up-to-date!\n",
            "[nltk_data] Downloading package averaged_perceptron_tagger to\n",
            "[nltk_data]     /root/nltk_data...\n",
            "[nltk_data]   Package averaged_perceptron_tagger is already up-to-\n",
            "[nltk_data]       date!\n"
          ],
          "name": "stdout"
        }
      ]
    },
    {
      "cell_type": "markdown",
      "metadata": {
        "id": "q4mT4Ca-oYUc",
        "colab_type": "text"
      },
      "source": [
        "\n",
        "## Lendo arquivo csv\n",
        "## Eliminando caracteres com tamanho 2 ou menor e deixando todos em caixa baixa\n",
        "\n",
        "\n"
      ]
    },
    {
      "cell_type": "code",
      "metadata": {
        "id": "jJPHsnJPoWNn",
        "colab_type": "code",
        "outputId": "f628c077-20ea-4d9b-af1f-270d4f38c67b",
        "colab": {
          "base_uri": "https://localhost:8080/",
          "height": 119
        }
      },
      "source": [
        "arquivo = pd.read_csv('results.csv')\n",
        "texto = arquivo['text']\n",
        "\n",
        "def eliminar_carac(text):\n",
        "  return re.sub(r'(\\W+|\\d+|\\b\\w{0,2}\\b)', ' ', text.lower())\n",
        "texto = texto.apply(eliminar_carac)\n",
        "\n",
        "texto = texto.apply(tokenize.word_tokenize, language='portuguese')\n",
        "palavras = []\n",
        "\n",
        "\n",
        "texto.head()"
      ],
      "execution_count": 95,
      "outputs": [
        {
          "output_type": "execute_result",
          "data": {
            "text/plain": [
              "0    [documento, páginas, vazado, onu, calcula, que...\n",
              "1    [volta, israel, onde, fez, parte, comitiva, pa...\n",
              "2    [ditador, nicolás, maduro, não, despacha, palá...\n",
              "3    [steve, bannon, estrategista, donald, trump, d...\n",
              "4    [entre, março, º, abril, pessoas, foram, presa...\n",
              "Name: text, dtype: object"
            ]
          },
          "metadata": {
            "tags": []
          },
          "execution_count": 95
        }
      ]
    },
    {
      "cell_type": "markdown",
      "metadata": {
        "id": "ycNPrAO9pGRN",
        "colab_type": "text"
      },
      "source": [
        "## Eliminando as stopwords : Usando a biblioteca nltk\n",
        "## Algoritmo Build Index : Usada para uma indexação simples\n"
      ]
    },
    {
      "cell_type": "code",
      "metadata": {
        "id": "GpYdzOHmpmoD",
        "colab_type": "code",
        "outputId": "5d877c8d-c4d7-40d7-9080-0d7f699a682a",
        "colab": {
          "base_uri": "https://localhost:8080/",
          "height": 204
        }
      },
      "source": [
        "stopwords = nltk.corpus.stopwords.words('portuguese')\n",
        "\n",
        "def eliminar_stopwords(text):\n",
        "  palavras = []\n",
        "  for palavra in text:\n",
        "    if(palavra not in stopwords):\n",
        "      palavras.append(palavra)\n",
        "  return palavras \n",
        "\n",
        "def build_index(arquivo):\n",
        "  numero_da_lista = 0\n",
        "  dic_index = {}\n",
        "  \n",
        "  for documento in arquivo:\n",
        "    \n",
        "    numero_da_lista += 1\n",
        "    doc = eliminar_stopwords(documento)\n",
        "    \n",
        "    for palavra in doc:\n",
        "      ocorrencia = doc.count(palavra)\n",
        "      if palavra not in dic_index:\n",
        "        dic_index[palavra] = []\n",
        "      par = (numero_da_lista, ocorrencia)\n",
        "      if par not in dic_index[palavra]:\n",
        "         dic_index[palavra].append(par)\n",
        "  return dic_index\n",
        "\n",
        "index = build_index(texto)\n",
        "tabela = {'palavra' : list(index.keys()),\n",
        "       'doc|ocorrencia' : list(index.values()) }\n",
        "df = pd.DataFrame(tabela)\n",
        "df.head()\n",
        "# df.to_csv('index.csv') salvar o arquivo em csv\n",
        "\n"
      ],
      "execution_count": 96,
      "outputs": [
        {
          "output_type": "execute_result",
          "data": {
            "text/html": [
              "<div>\n",
              "<style scoped>\n",
              "    .dataframe tbody tr th:only-of-type {\n",
              "        vertical-align: middle;\n",
              "    }\n",
              "\n",
              "    .dataframe tbody tr th {\n",
              "        vertical-align: top;\n",
              "    }\n",
              "\n",
              "    .dataframe thead th {\n",
              "        text-align: right;\n",
              "    }\n",
              "</style>\n",
              "<table border=\"1\" class=\"dataframe\">\n",
              "  <thead>\n",
              "    <tr style=\"text-align: right;\">\n",
              "      <th></th>\n",
              "      <th>palavra</th>\n",
              "      <th>doc|ocorrencia</th>\n",
              "    </tr>\n",
              "  </thead>\n",
              "  <tbody>\n",
              "    <tr>\n",
              "      <th>0</th>\n",
              "      <td>documento</td>\n",
              "      <td>[(1, 1), (26, 1), (58, 1), (80, 1)]</td>\n",
              "    </tr>\n",
              "    <tr>\n",
              "      <th>1</th>\n",
              "      <td>páginas</td>\n",
              "      <td>[(1, 1), (26, 1), (58, 1), (80, 1)]</td>\n",
              "    </tr>\n",
              "    <tr>\n",
              "      <th>2</th>\n",
              "      <td>vazado</td>\n",
              "      <td>[(1, 1), (26, 1), (58, 1), (80, 1)]</td>\n",
              "    </tr>\n",
              "    <tr>\n",
              "      <th>3</th>\n",
              "      <td>onu</td>\n",
              "      <td>[(1, 1), (6, 1), (26, 1), (34, 1), (58, 1), (6...</td>\n",
              "    </tr>\n",
              "    <tr>\n",
              "      <th>4</th>\n",
              "      <td>calcula</td>\n",
              "      <td>[(1, 1), (26, 1), (58, 1), (80, 1)]</td>\n",
              "    </tr>\n",
              "  </tbody>\n",
              "</table>\n",
              "</div>"
            ],
            "text/plain": [
              "     palavra                                     doc|ocorrencia\n",
              "0  documento                [(1, 1), (26, 1), (58, 1), (80, 1)]\n",
              "1    páginas                [(1, 1), (26, 1), (58, 1), (80, 1)]\n",
              "2     vazado                [(1, 1), (26, 1), (58, 1), (80, 1)]\n",
              "3        onu  [(1, 1), (6, 1), (26, 1), (34, 1), (58, 1), (6...\n",
              "4    calcula                [(1, 1), (26, 1), (58, 1), (80, 1)]"
            ]
          },
          "metadata": {
            "tags": []
          },
          "execution_count": 96
        }
      ]
    },
    {
      "cell_type": "markdown",
      "metadata": {
        "id": "8UdBAmzi_GUg",
        "colab_type": "text"
      },
      "source": [
        "# Parte 2 : Implementação do processamento de consulta documento-por-vez e termo-por-vez\n",
        "\n"
      ]
    },
    {
      "cell_type": "markdown",
      "metadata": {
        "id": "DptnMIvpO6UM",
        "colab_type": "text"
      },
      "source": [
        "## Documento Por Vez : Calcula escores completos para documentos processando todas as listas de termos, um documento por vez"
      ]
    },
    {
      "cell_type": "code",
      "metadata": {
        "id": "cFZOWJ9cOps3",
        "colab_type": "code",
        "colab": {}
      },
      "source": [
        "def document_por_vez(Q, I, k):\n",
        "    L = []\n",
        "    R = []\n",
        "    for word in Q.split(\" \"):\n",
        "        if word in I.keys():\n",
        "            L.append(I[word])\n",
        "    for document in range(1, len(texto)+1):\n",
        "        sd = 0\n",
        "        for l in L:\n",
        "            for i in l:\n",
        "                if (i[0] == document):\n",
        "                    sd += i[1]\n",
        "                    break\n",
        "        if (sd != 0):\n",
        "          heapq.heappush(R, (sd, document))\n",
        "    return heapq.nlargest(k, R)"
      ],
      "execution_count": 0,
      "outputs": []
    },
    {
      "cell_type": "markdown",
      "metadata": {
        "id": "rVCaCNS4PHmP",
        "colab_type": "text"
      },
      "source": [
        "## Termo Por Vez: Acumula escores para documentos processando listas de termos, um termo por vez"
      ]
    },
    {
      "cell_type": "code",
      "metadata": {
        "id": "8bYBdSVmPKI5",
        "colab_type": "code",
        "colab": {}
      },
      "source": [
        "def termo_por_vez(Q, I, k):\n",
        "    A = {}\n",
        "    L = []\n",
        "    R = []\n",
        "    for word in Q.split(\" \"):\n",
        "        if word in I.keys():\n",
        "            L.append(I[word])\n",
        "    for l in L:\n",
        "        for post in l:\n",
        "            d = post[0]\n",
        "            freq = post[1]\n",
        "            if (d in A.keys()):\n",
        "                A[d] += freq\n",
        "            else:\n",
        "                A[d] = freq\n",
        "    for (d, ad) in A.items():\n",
        "        sd = ad\n",
        "        heapq.heappush(R, (sd, d))\n",
        "    return heapq.nlargest(k, R)"
      ],
      "execution_count": 0,
      "outputs": []
    },
    {
      "cell_type": "markdown",
      "metadata": {
        "id": "Xjun_k-Yhud1",
        "colab_type": "text"
      },
      "source": [
        "##Definindo consultas de um termo "
      ]
    },
    {
      "cell_type": "code",
      "metadata": {
        "id": "hVgoUdkhPNQF",
        "colab_type": "code",
        "colab": {}
      },
      "source": [
        "queries = [\"política\", \"presidente\", \"bolsonaro\", \"maduro\", \"onu\"]"
      ],
      "execution_count": 0,
      "outputs": []
    },
    {
      "cell_type": "markdown",
      "metadata": {
        "id": "prJ6MhgNh94a",
        "colab_type": "text"
      },
      "source": [
        "## Executa 5 consultas em cada algoritmo retornando os top-10 "
      ]
    },
    {
      "cell_type": "code",
      "metadata": {
        "id": "wAthutPAPQ9C",
        "colab_type": "code",
        "colab": {}
      },
      "source": [
        "def compare_doc_term(queries):  \n",
        "  # Documento\n",
        "  result_doc = []\n",
        "  time_doc = []\n",
        "  # Termo\n",
        "  result_term = []\n",
        "  time_term = []\n",
        "  k = 10\n",
        "  for query in queries:\n",
        "    # Documento por vez\n",
        "    inicio_doc = time.time()\n",
        "    result_doc.append(document_por_vez(query, index, k))\n",
        "    fim_doc = time.time()\n",
        "    time_doc.append(fim_doc - inicio_doc)\n",
        "    # Termo Por Vez\n",
        "    inicio_term = time.time()\n",
        "    result_term.append(termo_por_vez(query, index, k))\n",
        "    fim_term = time.time()\n",
        "    time_term.append(fim_term - inicio_term)\n",
        "\n",
        "\n",
        "  tabela = {\n",
        "      'query': queries,\n",
        "      'documento_por_vez' : results_document,\n",
        "      'termo_por_vez' : results_term,\n",
        "      'comparando' : queries_df.documento_por_vez == queries_df.termo_por_vez\n",
        "    \n",
        "  }\n",
        "  return tabela"
      ],
      "execution_count": 0,
      "outputs": []
    },
    {
      "cell_type": "markdown",
      "metadata": {
        "id": "mNcLR3rniIlS",
        "colab_type": "text"
      },
      "source": [
        "## Resultado Top-10 documentos"
      ]
    },
    {
      "cell_type": "code",
      "metadata": {
        "id": "bOBVaT3gimUu",
        "colab_type": "code",
        "colab": {
          "base_uri": "https://localhost:8080/",
          "height": 204
        },
        "outputId": "0e04156c-980f-445a-8271-9e9c53052a5d"
      },
      "source": [
        "queries_df = pd.DataFrame(compare_doc_term(queries))\n",
        "queries_df\n",
        "# queries_df.to_csv('queries.csv') salvar o arquivo em csv"
      ],
      "execution_count": 147,
      "outputs": [
        {
          "output_type": "execute_result",
          "data": {
            "text/html": [
              "<div>\n",
              "<style scoped>\n",
              "    .dataframe tbody tr th:only-of-type {\n",
              "        vertical-align: middle;\n",
              "    }\n",
              "\n",
              "    .dataframe tbody tr th {\n",
              "        vertical-align: top;\n",
              "    }\n",
              "\n",
              "    .dataframe thead th {\n",
              "        text-align: right;\n",
              "    }\n",
              "</style>\n",
              "<table border=\"1\" class=\"dataframe\">\n",
              "  <thead>\n",
              "    <tr style=\"text-align: right;\">\n",
              "      <th></th>\n",
              "      <th>query</th>\n",
              "      <th>documento_por_vez</th>\n",
              "      <th>termo_por_vez</th>\n",
              "      <th>comparando</th>\n",
              "    </tr>\n",
              "  </thead>\n",
              "  <tbody>\n",
              "    <tr>\n",
              "      <th>0</th>\n",
              "      <td>política</td>\n",
              "      <td>[(1, 105), (1, 82), (1, 54)]</td>\n",
              "      <td>[(1, 105), (1, 82), (1, 54)]</td>\n",
              "      <td>True</td>\n",
              "    </tr>\n",
              "    <tr>\n",
              "      <th>1</th>\n",
              "      <td>presidente</td>\n",
              "      <td>[(1, 113), (1, 107), (1, 77), (1, 55), (1, 24)...</td>\n",
              "      <td>[(1, 113), (1, 107), (1, 77), (1, 55), (1, 24)...</td>\n",
              "      <td>True</td>\n",
              "    </tr>\n",
              "    <tr>\n",
              "      <th>2</th>\n",
              "      <td>bolsonaro</td>\n",
              "      <td>[(1, 121), (1, 119), (1, 117), (1, 115), (1, 1...</td>\n",
              "      <td>[(1, 121), (1, 119), (1, 117), (1, 115), (1, 1...</td>\n",
              "      <td>True</td>\n",
              "    </tr>\n",
              "    <tr>\n",
              "      <th>3</th>\n",
              "      <td>maduro</td>\n",
              "      <td>[(1, 111), (1, 98), (1, 78), (1, 76), (1, 66),...</td>\n",
              "      <td>[(1, 111), (1, 98), (1, 78), (1, 76), (1, 66),...</td>\n",
              "      <td>True</td>\n",
              "    </tr>\n",
              "    <tr>\n",
              "      <th>4</th>\n",
              "      <td>onu</td>\n",
              "      <td>[(1, 80), (1, 79), (1, 63), (1, 58), (1, 34), ...</td>\n",
              "      <td>[(1, 80), (1, 79), (1, 63), (1, 58), (1, 34), ...</td>\n",
              "      <td>True</td>\n",
              "    </tr>\n",
              "  </tbody>\n",
              "</table>\n",
              "</div>"
            ],
            "text/plain": [
              "        query                                  documento_por_vez  \\\n",
              "0    política                       [(1, 105), (1, 82), (1, 54)]   \n",
              "1  presidente  [(1, 113), (1, 107), (1, 77), (1, 55), (1, 24)...   \n",
              "2   bolsonaro  [(1, 121), (1, 119), (1, 117), (1, 115), (1, 1...   \n",
              "3      maduro  [(1, 111), (1, 98), (1, 78), (1, 76), (1, 66),...   \n",
              "4         onu  [(1, 80), (1, 79), (1, 63), (1, 58), (1, 34), ...   \n",
              "\n",
              "                                       termo_por_vez  comparando  \n",
              "0                       [(1, 105), (1, 82), (1, 54)]        True  \n",
              "1  [(1, 113), (1, 107), (1, 77), (1, 55), (1, 24)...        True  \n",
              "2  [(1, 121), (1, 119), (1, 117), (1, 115), (1, 1...        True  \n",
              "3  [(1, 111), (1, 98), (1, 78), (1, 76), (1, 66),...        True  \n",
              "4  [(1, 80), (1, 79), (1, 63), (1, 58), (1, 34), ...        True  "
            ]
          },
          "metadata": {
            "tags": []
          },
          "execution_count": 147
        }
      ]
    },
    {
      "cell_type": "markdown",
      "metadata": {
        "id": "Yd40YBbQZRIZ",
        "colab_type": "text"
      },
      "source": [
        "## Comparando os tempos médios de execução"
      ]
    },
    {
      "cell_type": "code",
      "metadata": {
        "id": "cf8BClVOWZfg",
        "colab_type": "code",
        "colab": {
          "base_uri": "https://localhost:8080/",
          "height": 204
        },
        "outputId": "20291b3e-25eb-455a-bd22-69db3eb00190"
      },
      "source": [
        "tabela_comparar = {\n",
        "    'tempo médio documento': time_results_document,\n",
        "    'tempo médio termo' : time_results_term\n",
        "}\n",
        "\n",
        "tabela_df = pd.DataFrame(tabela_comparar)\n",
        "tabela_df"
      ],
      "execution_count": 148,
      "outputs": [
        {
          "output_type": "execute_result",
          "data": {
            "text/html": [
              "<div>\n",
              "<style scoped>\n",
              "    .dataframe tbody tr th:only-of-type {\n",
              "        vertical-align: middle;\n",
              "    }\n",
              "\n",
              "    .dataframe tbody tr th {\n",
              "        vertical-align: top;\n",
              "    }\n",
              "\n",
              "    .dataframe thead th {\n",
              "        text-align: right;\n",
              "    }\n",
              "</style>\n",
              "<table border=\"1\" class=\"dataframe\">\n",
              "  <thead>\n",
              "    <tr style=\"text-align: right;\">\n",
              "      <th></th>\n",
              "      <th>tempo médio documento</th>\n",
              "      <th>tempo médio termo</th>\n",
              "    </tr>\n",
              "  </thead>\n",
              "  <tbody>\n",
              "    <tr>\n",
              "      <th>0</th>\n",
              "      <td>0.000099</td>\n",
              "      <td>0.000010</td>\n",
              "    </tr>\n",
              "    <tr>\n",
              "      <th>1</th>\n",
              "      <td>0.000077</td>\n",
              "      <td>0.000007</td>\n",
              "    </tr>\n",
              "    <tr>\n",
              "      <th>2</th>\n",
              "      <td>0.000283</td>\n",
              "      <td>0.000040</td>\n",
              "    </tr>\n",
              "    <tr>\n",
              "      <th>3</th>\n",
              "      <td>0.000098</td>\n",
              "      <td>0.000009</td>\n",
              "    </tr>\n",
              "    <tr>\n",
              "      <th>4</th>\n",
              "      <td>0.000098</td>\n",
              "      <td>0.000009</td>\n",
              "    </tr>\n",
              "  </tbody>\n",
              "</table>\n",
              "</div>"
            ],
            "text/plain": [
              "   tempo médio documento  tempo médio termo\n",
              "0               0.000099           0.000010\n",
              "1               0.000077           0.000007\n",
              "2               0.000283           0.000040\n",
              "3               0.000098           0.000009\n",
              "4               0.000098           0.000009"
            ]
          },
          "metadata": {
            "tags": []
          },
          "execution_count": 148
        }
      ]
    },
    {
      "cell_type": "markdown",
      "metadata": {
        "id": "u9yRoUZ8ZaWz",
        "colab_type": "text"
      },
      "source": [
        "##Chegando a conclusão que o tempo medio do algoritmo termo-por-vez  é menor que documento-por-vez "
      ]
    },
    {
      "cell_type": "markdown",
      "metadata": {
        "id": "x_EvVWOSbqtT",
        "colab_type": "text"
      },
      "source": [
        "#Parte 3 :  Consulta conjuntiva"
      ]
    }
  ]
}