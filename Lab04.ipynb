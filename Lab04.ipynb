{
  "nbformat": 4,
  "nbformat_minor": 0,
  "metadata": {
    "colab": {
      "name": "Lab04.ipynb",
      "version": "0.3.2",
      "provenance": [],
      "collapsed_sections": [],
      "toc_visible": true
    },
    "kernelspec": {
      "name": "python3",
      "display_name": "Python 3"
    }
  },
  "cells": [
    {
      "cell_type": "markdown",
      "metadata": {
        "id": "rklGXq2Wn1vi",
        "colab_type": "text"
      },
      "source": [
        "## Parte 1 :   Importando Bibliotecas que serão usadas"
      ]
    },
    {
      "cell_type": "code",
      "metadata": {
        "id": "SbC_IPx9ndWT",
        "colab_type": "code",
        "outputId": "97d9cbe4-09cd-4e39-9e8f-313fac8955c5",
        "colab": {
          "base_uri": "https://localhost:8080/",
          "height": 153
        }
      },
      "source": [
        "import pandas as pd\n",
        "import numpy as np\n",
        "import matplotlib.pyplot as plt\n",
        "import csv\n",
        "\n",
        "import re\n",
        "import nltk\n",
        "nltk.download('punkt')\n",
        "nltk.download('stopwords')\n",
        "nltk.download('averaged_perceptron_tagger')\n",
        "from nltk.tokenize import word_tokenize\n",
        "from nltk import tokenize \n",
        "from nltk.stem import RSLPStemmer\n",
        "from nltk.stem.porter import *\n",
        "import heapq\n",
        "import time\n",
        "%matplotlib inline\n"
      ],
      "execution_count": 96,
      "outputs": [
        {
          "output_type": "stream",
          "text": [
            "[nltk_data] Downloading package punkt to /root/nltk_data...\n",
            "[nltk_data]   Package punkt is already up-to-date!\n",
            "[nltk_data] Downloading package stopwords to /root/nltk_data...\n",
            "[nltk_data]   Package stopwords is already up-to-date!\n",
            "[nltk_data] Downloading package averaged_perceptron_tagger to\n",
            "[nltk_data]     /root/nltk_data...\n",
            "[nltk_data]   Package averaged_perceptron_tagger is already up-to-\n",
            "[nltk_data]       date!\n"
          ],
          "name": "stdout"
        }
      ]
    },
    {
      "cell_type": "markdown",
      "metadata": {
        "id": "q4mT4Ca-oYUc",
        "colab_type": "text"
      },
      "source": [
        "\n",
        "## Lendo arquivo csv\n",
        "## Eliminando caracteres com tamanho 2 ou menor e deixando todos em caixa baixa\n",
        "\n",
        "\n"
      ]
    },
    {
      "cell_type": "code",
      "metadata": {
        "id": "jJPHsnJPoWNn",
        "colab_type": "code",
        "outputId": "d40225ee-bef1-4110-92cf-d30833c81a83",
        "colab": {
          "base_uri": "https://localhost:8080/",
          "height": 119
        }
      },
      "source": [
        "arquivo = pd.read_csv('results.csv')\n",
        "texto = arquivo['text']\n",
        "\n",
        "def eliminar_carac(text):\n",
        "  return re.sub(r'(\\W+|\\d+|\\b\\w{0,2}\\b)', ' ', text.lower())\n",
        "texto = texto.apply(eliminar_carac)\n",
        "\n",
        "texto = texto.apply(tokenize.word_tokenize, language='portuguese')\n",
        "palavras = []\n",
        "\n",
        "\n",
        "texto.head()"
      ],
      "execution_count": 97,
      "outputs": [
        {
          "output_type": "execute_result",
          "data": {
            "text/plain": [
              "0    [juíza, federal, ivani, silva, luz, brasília, ...\n",
              "1    [menos, horas, depois, juíza, federal, ivani, ...\n",
              "2    [quando, determinou, que, março, uma, estratég...\n",
              "3    [quando, era, pequeno, luisa, gabriel, preocup...\n",
              "4    [desde, manhã, última, segunda, feira, sucesso...\n",
              "Name: text, dtype: object"
            ]
          },
          "metadata": {
            "tags": []
          },
          "execution_count": 97
        }
      ]
    },
    {
      "cell_type": "markdown",
      "metadata": {
        "id": "ycNPrAO9pGRN",
        "colab_type": "text"
      },
      "source": [
        "## Eliminando as stopwords : Usando a biblioteca nltk\n",
        "## Algoritmo Build Index : Usada para uma indexação simples\n"
      ]
    },
    {
      "cell_type": "code",
      "metadata": {
        "id": "GpYdzOHmpmoD",
        "colab_type": "code",
        "colab": {}
      },
      "source": [
        "stopwords = nltk.corpus.stopwords.words('portuguese')\n",
        "\n",
        "def eliminar_stopwords(text):\n",
        "  palavras = []\n",
        "  for palavra in text:\n",
        "    if(palavra not in stopwords):\n",
        "      palavras.append(palavra)\n",
        "  return palavras \n",
        "\n",
        "def build_index(arquivo):\n",
        "  numero_da_lista = 0\n",
        "  dic_index = {}\n",
        "  \n",
        "  for documento in arquivo:\n",
        "    \n",
        "    numero_da_lista += 1\n",
        "    doc = eliminar_stopwords(documento)\n",
        "    \n",
        "    for palavra in doc:\n",
        "      ocorrencia = doc.count(palavra)\n",
        "      if palavra not in dic_index:\n",
        "        dic_index[palavra] = []\n",
        "      par = (numero_da_lista, ocorrencia)\n",
        "      if par not in dic_index[palavra]:\n",
        "         dic_index[palavra].append(par)\n",
        "  return dic_index\n",
        "\n",
        "index = build_index(texto)\n",
        "tabela = {'palavra' : list(index.keys()),\n",
        "       'doc|ocorrencia' : list(index.values()) }\n",
        "df = pd.DataFrame(tabela)\n",
        "df.head()\n",
        "# df.to_csv('index.csv')\n"
      ],
      "execution_count": 0,
      "outputs": []
    },
    {
      "cell_type": "markdown",
      "metadata": {
        "id": "8UdBAmzi_GUg",
        "colab_type": "text"
      },
      "source": [
        "# Parte 2 : Implementação do processamento de consulta documento-por-vez e termo-por-vez\n",
        "\n"
      ]
    },
    {
      "cell_type": "markdown",
      "metadata": {
        "id": "DptnMIvpO6UM",
        "colab_type": "text"
      },
      "source": [
        "## Documento Por Vez : Calcula escores completos para documentos processando todas as listas de termos, um documento por vez"
      ]
    },
    {
      "cell_type": "code",
      "metadata": {
        "id": "cFZOWJ9cOps3",
        "colab_type": "code",
        "colab": {
          "base_uri": "https://localhost:8080/",
          "height": 187
        },
        "outputId": "73d83ce4-2f9c-430f-afe6-6f8f35a43ad8"
      },
      "source": [
        "def document_por_vez(Q, I, k):\n",
        "    L = []\n",
        "    R = []\n",
        "    for word in Q.split(\" \"):\n",
        "        if word in I.keys():\n",
        "            L.append(I[word])\n",
        "    for document in range(1, len(texto)+1):\n",
        "        sd = 0\n",
        "        for l in L:\n",
        "            for i in l:\n",
        "                if (i[0] == document):\n",
        "                    sd += i[1]\n",
        "                    break\n",
        "        if (sd != 0):\n",
        "          heapq.heappush(R, (sd, document))\n",
        "    return heapq.nlargest(k, R)\n",
        "document_por_vez(\"onu\", index, 10)"
      ],
      "execution_count": 100,
      "outputs": [
        {
          "output_type": "execute_result",
          "data": {
            "text/plain": [
              "[(2, 101),\n",
              " (2, 64),\n",
              " (2, 29),\n",
              " (1, 249),\n",
              " (1, 185),\n",
              " (1, 97),\n",
              " (1, 70),\n",
              " (1, 42),\n",
              " (1, 8),\n",
              " (1, 3)]"
            ]
          },
          "metadata": {
            "tags": []
          },
          "execution_count": 100
        }
      ]
    },
    {
      "cell_type": "markdown",
      "metadata": {
        "id": "rVCaCNS4PHmP",
        "colab_type": "text"
      },
      "source": [
        "## Termo Por Vez: Acumula escores para documentos processando listas de termos, um termo por vez"
      ]
    },
    {
      "cell_type": "code",
      "metadata": {
        "id": "8bYBdSVmPKI5",
        "colab_type": "code",
        "colab": {
          "base_uri": "https://localhost:8080/",
          "height": 187
        },
        "outputId": "6ec96fa5-4afe-440e-cc25-a1aab2869408"
      },
      "source": [
        "def termo_por_vez(Q, I, k):\n",
        "    A = {}\n",
        "    L = []\n",
        "    R = []\n",
        "    for word in Q.split(\" \"):\n",
        "        if word in I.keys():\n",
        "            L.append(I[word])\n",
        "    for l in L:\n",
        "        for post in l:\n",
        "            d = post[0]\n",
        "            freq = post[1]\n",
        "            if (d in A.keys()):\n",
        "                A[d] += freq\n",
        "            else:\n",
        "                A[d] = freq\n",
        "    for (d, ad) in A.items():\n",
        "        sd = ad\n",
        "        heapq.heappush(R, (sd, d))\n",
        "    return heapq.nlargest(k, R)\n",
        "\n",
        "termo_por_vez(\"onu\", index, 10)"
      ],
      "execution_count": 101,
      "outputs": [
        {
          "output_type": "execute_result",
          "data": {
            "text/plain": [
              "[(2, 101),\n",
              " (2, 64),\n",
              " (2, 29),\n",
              " (1, 249),\n",
              " (1, 185),\n",
              " (1, 97),\n",
              " (1, 70),\n",
              " (1, 42),\n",
              " (1, 8),\n",
              " (1, 3)]"
            ]
          },
          "metadata": {
            "tags": []
          },
          "execution_count": 101
        }
      ]
    },
    {
      "cell_type": "markdown",
      "metadata": {
        "id": "Xjun_k-Yhud1",
        "colab_type": "text"
      },
      "source": [
        "##Definindo consultas de um termo "
      ]
    },
    {
      "cell_type": "code",
      "metadata": {
        "id": "hVgoUdkhPNQF",
        "colab_type": "code",
        "colab": {}
      },
      "source": [
        "queries = [\"política\", \"presidente\", \"bolsonaro\", \"maduro\", \"onu\"]"
      ],
      "execution_count": 0,
      "outputs": []
    },
    {
      "cell_type": "markdown",
      "metadata": {
        "id": "prJ6MhgNh94a",
        "colab_type": "text"
      },
      "source": [
        "## Executa 5 consultas em cada algoritmo retornando os top-10 "
      ]
    },
    {
      "cell_type": "code",
      "metadata": {
        "id": "wAthutPAPQ9C",
        "colab_type": "code",
        "colab": {}
      },
      "source": [
        "  # Documento\n",
        "  result_doc = []\n",
        "  time_doc = []\n",
        "  # Termo\n",
        "  result_term = []\n",
        "  time_term = []\n",
        "  k = 10\n",
        "  for query in queries:\n",
        "    # Documento por vez\n",
        "    inicio_doc = time.time()\n",
        "    result_doc.append(document_por_vez(query, index, k))\n",
        "    fim_doc = time.time()\n",
        "    time_doc.append(fim_doc - inicio_doc)\n",
        "    # Termo Por Vez\n",
        "    inicio_term = time.time()\n",
        "    result_term.append(termo_por_vez(query, index, k))\n",
        "    fim_term = time.time()\n",
        "    time_term.append(fim_term - inicio_term)\n",
        "  # criação da tabela\n",
        "  tabela = pd.DataFrame()\n",
        "  tabela['query'] =  queries\n",
        "  tabela['documento_por_vez'] = result_doc\n",
        "  tabela['termo_por_vez'] = result_term\n",
        "  tabela['comparando'] = tabela.documento_por_vez == tabela.termo_por_vez"
      ],
      "execution_count": 0,
      "outputs": []
    },
    {
      "cell_type": "markdown",
      "metadata": {
        "id": "mNcLR3rniIlS",
        "colab_type": "text"
      },
      "source": [
        "## Resultado Top-10 documentos"
      ]
    },
    {
      "cell_type": "code",
      "metadata": {
        "id": "bOBVaT3gimUu",
        "colab_type": "code",
        "colab": {}
      },
      "source": [
        "tabela\n",
        "# tabela.to_csv('queries.csv')"
      ],
      "execution_count": 0,
      "outputs": []
    },
    {
      "cell_type": "markdown",
      "metadata": {
        "id": "Yd40YBbQZRIZ",
        "colab_type": "text"
      },
      "source": [
        "## Comparando os tempos médios de execução"
      ]
    },
    {
      "cell_type": "code",
      "metadata": {
        "id": "cf8BClVOWZfg",
        "colab_type": "code",
        "colab": {
          "base_uri": "https://localhost:8080/",
          "height": 204
        },
        "outputId": "b5b73440-1f23-448a-9926-c57384eb53e2"
      },
      "source": [
        "tabela_comparar = {\n",
        "    'tempo médio documento': time_doc,\n",
        "    'tempo médio termo' : time_term\n",
        "}\n",
        "\n",
        "tabela_df = pd.DataFrame(tabela_comparar)\n",
        "tabela_df"
      ],
      "execution_count": 91,
      "outputs": [
        {
          "output_type": "execute_result",
          "data": {
            "text/html": [
              "<div>\n",
              "<style scoped>\n",
              "    .dataframe tbody tr th:only-of-type {\n",
              "        vertical-align: middle;\n",
              "    }\n",
              "\n",
              "    .dataframe tbody tr th {\n",
              "        vertical-align: top;\n",
              "    }\n",
              "\n",
              "    .dataframe thead th {\n",
              "        text-align: right;\n",
              "    }\n",
              "</style>\n",
              "<table border=\"1\" class=\"dataframe\">\n",
              "  <thead>\n",
              "    <tr style=\"text-align: right;\">\n",
              "      <th></th>\n",
              "      <th>tempo médio documento</th>\n",
              "      <th>tempo médio termo</th>\n",
              "    </tr>\n",
              "  </thead>\n",
              "  <tbody>\n",
              "    <tr>\n",
              "      <th>0</th>\n",
              "      <td>0.001333</td>\n",
              "      <td>0.000117</td>\n",
              "    </tr>\n",
              "    <tr>\n",
              "      <th>1</th>\n",
              "      <td>0.001993</td>\n",
              "      <td>0.000122</td>\n",
              "    </tr>\n",
              "    <tr>\n",
              "      <th>2</th>\n",
              "      <td>0.001454</td>\n",
              "      <td>0.000131</td>\n",
              "    </tr>\n",
              "    <tr>\n",
              "      <th>3</th>\n",
              "      <td>0.000303</td>\n",
              "      <td>0.000021</td>\n",
              "    </tr>\n",
              "    <tr>\n",
              "      <th>4</th>\n",
              "      <td>0.000234</td>\n",
              "      <td>0.000013</td>\n",
              "    </tr>\n",
              "  </tbody>\n",
              "</table>\n",
              "</div>"
            ],
            "text/plain": [
              "   tempo médio documento  tempo médio termo\n",
              "0               0.001333           0.000117\n",
              "1               0.001993           0.000122\n",
              "2               0.001454           0.000131\n",
              "3               0.000303           0.000021\n",
              "4               0.000234           0.000013"
            ]
          },
          "metadata": {
            "tags": []
          },
          "execution_count": 91
        }
      ]
    },
    {
      "cell_type": "markdown",
      "metadata": {
        "id": "u9yRoUZ8ZaWz",
        "colab_type": "text"
      },
      "source": [
        "##Chegando a conclusão que o tempo medio do algoritmo termo-por-vez  é menor que documento-por-vez "
      ]
    },
    {
      "cell_type": "markdown",
      "metadata": {
        "id": "x_EvVWOSbqtT",
        "colab_type": "text"
      },
      "source": [
        "#Parte 3 :  Consulta conjuntiva"
      ]
    },
    {
      "cell_type": "code",
      "metadata": {
        "id": "AeOjHFIwPNXt",
        "colab_type": "code",
        "colab": {}
      },
      "source": [
        "\n"
      ],
      "execution_count": 0,
      "outputs": []
    },
    {
      "cell_type": "code",
      "metadata": {
        "id": "lBSguYc3ZJQy",
        "colab_type": "code",
        "colab": {}
      },
      "source": [
        ""
      ],
      "execution_count": 0,
      "outputs": []
    }
  ]
}